{
 "cells": [
  {
   "cell_type": "markdown",
   "id": "periodic-calibration",
   "metadata": {},
   "source": [
    "# import packages"
   ]
  },
  {
   "cell_type": "code",
   "execution_count": 1,
   "id": "liked-situation",
   "metadata": {},
   "outputs": [],
   "source": [
    "##%reload_ext tensorboard\n",
    "\n",
    "import matplotlib.pyplot as plt\n",
    "import numpy as np\n",
    "import pandas as pd\n",
    "import tensorflow as tf\n",
    "\n",
    "from sklearn.metrics import accuracy_score, precision_score, recall_score\n",
    "from sklearn.model_selection import train_test_split\n",
    "from tensorflow.keras import layers, losses\n",
    "from tensorflow.keras.datasets import fashion_mnist\n",
    "from tensorflow.keras.models import Model\n",
    "from sklearn.metrics import mean_squared_error\n",
    "\n",
    "from sklearn import preprocessing\n"
   ]
  },
  {
   "cell_type": "markdown",
   "id": "single-lemon",
   "metadata": {},
   "source": [
    "# load data"
   ]
  },
  {
   "cell_type": "code",
   "execution_count": 2,
   "id": "cooperative-gothic",
   "metadata": {},
   "outputs": [],
   "source": [
    "cytokine_data = pd.read_csv('../data/combine_031517.csv')\n",
    "cytokine_data = cytokine_data.drop(['CHEX1', 'CHEX2', 'CHEX3', 'CHEX4'], axis = 1)\n",
    "cytokines = cytokine_data.iloc[:,cytokine_data.columns.get_loc('CD40L'):]\n",
    "cytokines\n",
    "\n",
    "train_set, test_set = train_test_split(cytokines, test_size=0.2)\n",
    "train_set, val_set = train_test_split(cytokines, test_size=0.2)"
   ]
  },
  {
   "cell_type": "markdown",
   "id": "banner-austria",
   "metadata": {},
   "source": [
    "# preprocess data"
   ]
  },
  {
   "cell_type": "code",
   "execution_count": 3,
   "id": "blind-bronze",
   "metadata": {},
   "outputs": [],
   "source": [
    "## preprocess functions\n",
    "def make_standardize(x):\n",
    "    n,p = x.shape\n",
    "    X = np.copy(x)\n",
    "    mus = []\n",
    "    stds = []\n",
    "    for i in range(p):\n",
    "        x = X[:,i]\n",
    "        mu = np.mean(x)\n",
    "        st = np.std(x)\n",
    "        x = x - mu\n",
    "        x = x / st\n",
    "        X[:,i] = x\n",
    "        mus.append(mu)\n",
    "        stds.append(st)\n",
    "    return X,mus,stds\n",
    "\n",
    "def remove_cyto_outliers(lD_cyto):\n",
    "        X = lD_cyto\n",
    "        Xs,mus,stds = make_standardize(X)\n",
    "        upper = np.asarray(mus)+np.asarray(stds)*3\n",
    "        lower = np.asarray(mus)-np.asarray(stds)*3\n",
    "        for i in range(X.shape[0]):\n",
    "            for j in range(X.shape[1]):\n",
    "                if X[i,j]>upper[j]: X[i,j] = upper[j]\n",
    "                if X[i,j]<lower[j]: X[i,j] = lower[j]\n",
    "        return X\n"
   ]
  },
  {
   "cell_type": "code",
   "execution_count": 4,
   "id": "healthy-imagination",
   "metadata": {},
   "outputs": [
    {
     "data": {
      "text/plain": [
       "array([[-0.59585464, -0.79589227,  0.28511765, ..., -0.77488853,\n",
       "        -0.47718653, -0.23196626],\n",
       "       [-0.38711635, -0.22572978, -0.39566277, ..., -0.72295204,\n",
       "        -0.22700936, -0.10777838],\n",
       "       [-0.46438067,  2.71974709,  0.8779951 , ..., -0.68281931,\n",
       "        -0.14090448,  0.513161  ],\n",
       "       ...,\n",
       "       [-0.27371227, -0.37806327,  0.41229641, ..., -0.54589585,\n",
       "         2.57905384,  0.03373803],\n",
       "       [ 1.09399084,  0.40318992, -1.43553616, ..., -0.56124072,\n",
       "         2.81565156,  1.19186218],\n",
       "       [-0.25065759, -0.30516081, -1.58889878, ..., -0.33224804,\n",
       "         2.60117766,  2.82652121]])"
      ]
     },
     "execution_count": 4,
     "metadata": {},
     "output_type": "execute_result"
    }
   ],
   "source": [
    "## standardize and remove outliers\n",
    "cytokines_np = cytokines.values\n",
    "cytokines_np = remove_cyto_outliers(cytokines_np)\n",
    "cytokines_np = make_standardize(cytokines_np)\n",
    "cytokines_np[0]\n",
    "\n",
    "##extract age\n",
    "#cytokine_data.AGE"
   ]
  },
  {
   "cell_type": "markdown",
   "id": "tough-charleston",
   "metadata": {},
   "source": [
    "# create model"
   ]
  },
  {
   "cell_type": "code",
   "execution_count": 5,
   "id": "destroyed-specification",
   "metadata": {},
   "outputs": [],
   "source": [
    "class Encoder(tf.keras.layers.Layer):\n",
    "  def __init__(self, intermediate_dim):\n",
    "    super(Encoder, self).__init__()\n",
    "#     self.hidden_layer = tf.keras.layers.Dense(\n",
    "#       units=intermediate_dim,\n",
    "#       activation=tf.nn.relu,\n",
    "#       kernel_initializer='he_uniform'\n",
    "#     )\n",
    "#     self.output_layer = tf.keras.layers.Dense(\n",
    "#       units=intermediate_dim,\n",
    "#       activation=tf.nn.sigmoid\n",
    "#     )\n",
    "#     \n",
    "#   def call(self, input_features):\n",
    "#     activation = self.hidden_layer(input_features)\n",
    "#     return self.output_layer(activation)\n",
    "\n",
    "    self.hidden_layer = tf.keras.Sequential([\n",
    "#       tf.keras.layers.Dense(50, activation=tf.nn.relu, input_shape=(50,)),  # input shape required\n",
    "#       tf.keras.layers.Dense(50, activation='tanh'),\n",
    "      tf.keras.layers.Dense(5, activation='tanh'),\n",
    "#       tf.keras.layers.Dense(1)\n",
    "      tf.keras.layers.Dense(5, activation='tanh')\n",
    "    ])\n",
    "    \n",
    "  def call(self, input_features):\n",
    "    return self.hidden_layer(input_features)"
   ]
  },
  {
   "cell_type": "code",
   "execution_count": 6,
   "id": "turkish-uruguay",
   "metadata": {},
   "outputs": [],
   "source": [
    "class Decoder(tf.keras.layers.Layer):\n",
    "  def __init__(self, intermediate_dim, original_dim):\n",
    "    super(Decoder, self).__init__()\n",
    "#     self.hidden_layer = tf.keras.layers.Dense(\n",
    "#       units=intermediate_dim,\n",
    "#       activation=tf.nn.relu,\n",
    "#       kernel_initializer='he_uniform'\n",
    "#     )\n",
    "#     self.output_layer = tf.keras.layers.Dense(\n",
    "#       units=original_dim,\n",
    "#       activation=tf.nn.sigmoid\n",
    "#     )\n",
    "  \n",
    "#   def call(self, code):\n",
    "#     activation = self.hidden_layer(code)\n",
    "#     return self.output_layer(activation)\n",
    "\n",
    "    self.hidden_layer = tf.keras.Sequential([\n",
    "      layers.Dense(5, activation=\"tanh\"),\n",
    "#       layers.Dense(50, activation=\"tanh\"),\n",
    "      layers.Dense(50, activation=\"sigmoid\")])\n",
    "    \n",
    "  def call(self, code):\n",
    "    return self.hidden_layer(code)\n",
    "    \n",
    "    "
   ]
  },
  {
   "cell_type": "code",
   "execution_count": 7,
   "id": "expanded-charter",
   "metadata": {},
   "outputs": [],
   "source": [
    "class Age_layer(tf.keras.layers.Layer):\n",
    "  def __init__(self, intermediate_dim, original_dim):\n",
    "    super(Age_layer, self).__init__()\n",
    "\n",
    "    self.hidden_layer = tf.keras.Sequential([\n",
    "      layers.Dense(1, activation=\"linear\")])\n",
    "    \n",
    "  def call(self, code):\n",
    "    return self.hidden_layer(code)\n",
    "    \n",
    "    "
   ]
  },
  {
   "cell_type": "code",
   "execution_count": 8,
   "id": "classical-temperature",
   "metadata": {},
   "outputs": [],
   "source": [
    "class Autoencoder(tf.keras.Model):\n",
    "  def __init__(self, intermediate_dim, original_dim):\n",
    "    super(Autoencoder, self).__init__()\n",
    "    self.encoder = Encoder(intermediate_dim=intermediate_dim)\n",
    "    self.decoder = Decoder(intermediate_dim=intermediate_dim, original_dim=original_dim)\n",
    "    self.age_layer = Age_layer(intermediate_dim=intermediate_dim, original_dim=original_dim)\n",
    "  \n",
    "  def call(self, input_features):\n",
    "#     import pdb; pdb.set_trace()\n",
    "    code = self.encoder(input_features)\n",
    "    reconstructed = self.decoder(code)\n",
    "    pred_age = self.age_layer(code)\n",
    "    return (reconstructed, pred_age)\n",
    "\n",
    "#   def call(self, input_features):\n",
    "#     code = self.encoder(input_features)\n",
    "#     pred_age = self.age_layer(code)\n",
    "#     return pred_age\n",
    "\n",
    "\n",
    "#   def calc_age(self, input_features):\n",
    "#     #import pdb; pdb.set_trace()\n",
    "#     code = self.encoder(input_features)\n",
    "#     reg = LinearRegression().fit(X, y)\n",
    "#     reg.score(X, y)\n",
    "#     return code"
   ]
  },
  {
   "cell_type": "code",
   "execution_count": 9,
   "id": "broadband-update",
   "metadata": {},
   "outputs": [],
   "source": [
    "def loss(model, original):\n",
    "  #reconstruction_error = tf.reduce_mean(tf.square(tf.subtract(model(original), original)))\n",
    "  #return reconstruction_error\n",
    "\n",
    "  lam = 0.2\n",
    "  reconstruction, pred_age = model(original[0])\n",
    "  reconstruction_error = tf.reduce_mean(tf.square(tf.subtract(reconstruction, original[0])))\n",
    "  age_error = tf.reduce_mean(tf.square(original[1] - pred_age))\n",
    "#   import pdb; pdb.set_trace()\n",
    "  \n",
    "  ## regularization\n",
    "  l2_norms = [tf.nn.l2_loss(v) for v in model.trainable_variables]\n",
    "  l2_norm = tf.reduce_sum(l2_norms)\n",
    "#   cost = (1-lam)*reconstruction_error + lam*age_error + 0.001*l2_norm\n",
    "  cost = (1-lam)*reconstruction_error + lam*age_error \n",
    "  return cost\n",
    "\n",
    "#   import pdb; pdb.set_trace()\n",
    "#   lam = 0.2\n",
    "#   pred_age = model(original[0])\n",
    "# #   reconstruction_error = tf.reduce_mean(tf.square(tf.subtract(reconstruction, original[0])))\n",
    "#   age_error = tf.reduce_mean(tf.square(original[1] - pred_age))\n",
    "#   cost = age_error\n",
    "#   return cost\n",
    "\n",
    "\n",
    "#   return reconstruction_error"
   ]
  },
  {
   "cell_type": "code",
   "execution_count": 10,
   "id": "vietnamese-draft",
   "metadata": {},
   "outputs": [],
   "source": [
    "def train(loss, model, opt, original):\n",
    "  #import pdb; pdb.set_trace()\n",
    "  with tf.GradientTape() as tape:\n",
    "    gradients = tape.gradient(loss(model, original), model.trainable_variables)\n",
    "    gradient_variables = zip(gradients, model.trainable_variables)\n",
    "    opt.apply_gradients(gradient_variables)"
   ]
  },
  {
   "cell_type": "markdown",
   "id": "chinese-snapshot",
   "metadata": {},
   "source": [
    "# train model"
   ]
  },
  {
   "cell_type": "code",
   "execution_count": 11,
   "id": "present-grounds",
   "metadata": {},
   "outputs": [
    {
     "data": {
      "text/plain": [
       "3"
      ]
     },
     "execution_count": 11,
     "metadata": {},
     "output_type": "execute_result"
    }
   ],
   "source": [
    "len(cytokines_np)"
   ]
  },
  {
   "cell_type": "code",
   "execution_count": 12,
   "id": "pressed-issue",
   "metadata": {},
   "outputs": [],
   "source": [
    "## parameter\n",
    "learning_rate = 0.01\n",
    "batch_size = 32\n",
    "epochs = 200\n",
    "\n",
    "# learning_rate = 0.002\n",
    "# batch_size = 10 \n",
    "# epochs = 1000"
   ]
  },
  {
   "cell_type": "code",
   "execution_count": 13,
   "id": "searching-raise",
   "metadata": {
    "scrolled": true
   },
   "outputs": [
    {
     "name": "stdout",
     "output_type": "stream",
     "text": [
      "0\n",
      "tf.Tensor(0.70929307, shape=(), dtype=float32)\n",
      "1\n",
      "tf.Tensor(1.1755341, shape=(), dtype=float32)\n",
      "2\n",
      "tf.Tensor(0.7134578, shape=(), dtype=float32)\n",
      "3\n",
      "tf.Tensor(1.7915986, shape=(), dtype=float32)\n",
      "4\n",
      "tf.Tensor(0.5517706, shape=(), dtype=float32)\n",
      "5\n",
      "tf.Tensor(1.1073053, shape=(), dtype=float32)\n",
      "6\n",
      "tf.Tensor(1.0487788, shape=(), dtype=float32)\n",
      "7\n",
      "tf.Tensor(0.6422026, shape=(), dtype=float32)\n",
      "8\n",
      "tf.Tensor(1.0107394, shape=(), dtype=float32)\n",
      "9\n",
      "tf.Tensor(0.5904094, shape=(), dtype=float32)\n",
      "10\n",
      "tf.Tensor(0.9686862, shape=(), dtype=float32)\n",
      "11\n",
      "tf.Tensor(0.5607465, shape=(), dtype=float32)\n",
      "12\n",
      "tf.Tensor(1.9034504, shape=(), dtype=float32)\n",
      "13\n",
      "tf.Tensor(0.55063045, shape=(), dtype=float32)\n",
      "14\n",
      "tf.Tensor(0.53790057, shape=(), dtype=float32)\n",
      "15\n",
      "tf.Tensor(0.51643974, shape=(), dtype=float32)\n",
      "16\n",
      "tf.Tensor(0.77416414, shape=(), dtype=float32)\n",
      "17\n",
      "tf.Tensor(0.52268237, shape=(), dtype=float32)\n",
      "18\n",
      "tf.Tensor(0.5158314, shape=(), dtype=float32)\n",
      "19\n",
      "tf.Tensor(0.48723218, shape=(), dtype=float32)\n",
      "20\n",
      "tf.Tensor(1.1429037, shape=(), dtype=float32)\n",
      "21\n",
      "tf.Tensor(1.8407145, shape=(), dtype=float32)\n",
      "22\n",
      "tf.Tensor(0.90395397, shape=(), dtype=float32)\n",
      "23\n",
      "tf.Tensor(0.42804536, shape=(), dtype=float32)\n",
      "24\n",
      "tf.Tensor(0.90564203, shape=(), dtype=float32)\n",
      "25\n",
      "tf.Tensor(0.7578327, shape=(), dtype=float32)\n",
      "26\n",
      "tf.Tensor(0.4263765, shape=(), dtype=float32)\n",
      "27\n",
      "tf.Tensor(0.74495715, shape=(), dtype=float32)\n",
      "28\n",
      "tf.Tensor(0.5321616, shape=(), dtype=float32)\n",
      "29\n",
      "tf.Tensor(0.5098226, shape=(), dtype=float32)\n",
      "30\n",
      "tf.Tensor(0.7677203, shape=(), dtype=float32)\n",
      "31\n",
      "tf.Tensor(0.67973393, shape=(), dtype=float32)\n",
      "32\n",
      "tf.Tensor(0.5074167, shape=(), dtype=float32)\n",
      "33\n",
      "tf.Tensor(0.49867225, shape=(), dtype=float32)\n",
      "34\n",
      "tf.Tensor(0.5057512, shape=(), dtype=float32)\n",
      "35\n",
      "tf.Tensor(0.49739763, shape=(), dtype=float32)\n",
      "36\n",
      "tf.Tensor(0.4532949, shape=(), dtype=float32)\n",
      "37\n",
      "tf.Tensor(0.43044487, shape=(), dtype=float32)\n",
      "38\n",
      "tf.Tensor(0.754699, shape=(), dtype=float32)\n",
      "39\n",
      "tf.Tensor(0.74898875, shape=(), dtype=float32)\n",
      "40\n",
      "tf.Tensor(0.40471077, shape=(), dtype=float32)\n",
      "41\n",
      "tf.Tensor(0.65604925, shape=(), dtype=float32)\n",
      "42\n",
      "tf.Tensor(0.4484384, shape=(), dtype=float32)\n",
      "43\n",
      "tf.Tensor(0.49770248, shape=(), dtype=float32)\n",
      "44\n",
      "tf.Tensor(0.7216606, shape=(), dtype=float32)\n",
      "45\n",
      "tf.Tensor(0.4931519, shape=(), dtype=float32)\n",
      "46\n",
      "tf.Tensor(1.4120032, shape=(), dtype=float32)\n",
      "47\n",
      "tf.Tensor(0.74134296, shape=(), dtype=float32)\n",
      "48\n",
      "tf.Tensor(1.4186392, shape=(), dtype=float32)\n",
      "49\n",
      "tf.Tensor(0.65164065, shape=(), dtype=float32)\n",
      "50\n",
      "tf.Tensor(1.120353, shape=(), dtype=float32)\n",
      "51\n",
      "tf.Tensor(0.52016735, shape=(), dtype=float32)\n",
      "52\n",
      "tf.Tensor(0.5191626, shape=(), dtype=float32)\n",
      "53\n",
      "tf.Tensor(0.7353587, shape=(), dtype=float32)\n",
      "54\n",
      "tf.Tensor(0.7383146, shape=(), dtype=float32)\n",
      "55\n",
      "tf.Tensor(0.4823507, shape=(), dtype=float32)\n",
      "56\n",
      "tf.Tensor(0.49265888, shape=(), dtype=float32)\n",
      "57\n",
      "tf.Tensor(1.4129128, shape=(), dtype=float32)\n",
      "58\n",
      "tf.Tensor(0.4949832, shape=(), dtype=float32)\n",
      "59\n",
      "tf.Tensor(0.5843888, shape=(), dtype=float32)\n",
      "60\n",
      "tf.Tensor(0.6072135, shape=(), dtype=float32)\n",
      "61\n",
      "tf.Tensor(0.52732503, shape=(), dtype=float32)\n",
      "62\n",
      "tf.Tensor(0.49194252, shape=(), dtype=float32)\n",
      "63\n",
      "tf.Tensor(0.7506654, shape=(), dtype=float32)\n",
      "64\n",
      "tf.Tensor(0.7417116, shape=(), dtype=float32)\n",
      "65\n",
      "tf.Tensor(0.7462424, shape=(), dtype=float32)\n",
      "66\n",
      "tf.Tensor(1.4144362, shape=(), dtype=float32)\n",
      "67\n",
      "tf.Tensor(1.2314737, shape=(), dtype=float32)\n",
      "68\n",
      "tf.Tensor(0.42826128, shape=(), dtype=float32)\n",
      "69\n",
      "tf.Tensor(0.52001923, shape=(), dtype=float32)\n",
      "70\n",
      "tf.Tensor(0.49755627, shape=(), dtype=float32)\n",
      "71\n",
      "tf.Tensor(0.45127112, shape=(), dtype=float32)\n",
      "72\n",
      "tf.Tensor(0.4901724, shape=(), dtype=float32)\n",
      "73\n",
      "tf.Tensor(1.7129359, shape=(), dtype=float32)\n",
      "74\n",
      "tf.Tensor(1.7341853, shape=(), dtype=float32)\n",
      "75\n",
      "tf.Tensor(0.5274768, shape=(), dtype=float32)\n",
      "76\n",
      "tf.Tensor(0.87568074, shape=(), dtype=float32)\n",
      "77\n",
      "tf.Tensor(0.49091828, shape=(), dtype=float32)\n",
      "78\n",
      "tf.Tensor(0.74066246, shape=(), dtype=float32)\n",
      "79\n",
      "tf.Tensor(0.5843709, shape=(), dtype=float32)\n",
      "80\n",
      "tf.Tensor(0.4011251, shape=(), dtype=float32)\n",
      "81\n",
      "tf.Tensor(0.7033785, shape=(), dtype=float32)\n",
      "82\n",
      "tf.Tensor(1.0981202, shape=(), dtype=float32)\n",
      "83\n",
      "tf.Tensor(0.6566461, shape=(), dtype=float32)\n",
      "84\n",
      "tf.Tensor(0.6685147, shape=(), dtype=float32)\n",
      "85\n",
      "tf.Tensor(0.887401, shape=(), dtype=float32)\n",
      "86\n",
      "tf.Tensor(0.40585962, shape=(), dtype=float32)\n",
      "87\n",
      "tf.Tensor(0.49589577, shape=(), dtype=float32)\n",
      "88\n",
      "tf.Tensor(0.57415175, shape=(), dtype=float32)\n",
      "89\n",
      "tf.Tensor(0.7337072, shape=(), dtype=float32)\n",
      "90\n",
      "tf.Tensor(1.2284509, shape=(), dtype=float32)\n",
      "91\n",
      "tf.Tensor(1.1246734, shape=(), dtype=float32)\n",
      "92\n",
      "tf.Tensor(0.7378212, shape=(), dtype=float32)\n",
      "93\n",
      "tf.Tensor(0.49170774, shape=(), dtype=float32)\n",
      "94\n",
      "tf.Tensor(0.42901742, shape=(), dtype=float32)\n",
      "95\n",
      "tf.Tensor(0.72987264, shape=(), dtype=float32)\n",
      "96\n",
      "tf.Tensor(0.47618327, shape=(), dtype=float32)\n",
      "97\n",
      "tf.Tensor(0.49693847, shape=(), dtype=float32)\n",
      "98\n",
      "tf.Tensor(0.41089594, shape=(), dtype=float32)\n",
      "99\n",
      "tf.Tensor(0.7266637, shape=(), dtype=float32)\n",
      "100\n",
      "tf.Tensor(0.6902896, shape=(), dtype=float32)\n",
      "101\n",
      "tf.Tensor(0.4971293, shape=(), dtype=float32)\n",
      "102\n",
      "tf.Tensor(0.4175521, shape=(), dtype=float32)\n",
      "103\n",
      "tf.Tensor(0.40390384, shape=(), dtype=float32)\n",
      "104\n",
      "tf.Tensor(0.44471613, shape=(), dtype=float32)\n",
      "105\n",
      "tf.Tensor(0.40290552, shape=(), dtype=float32)\n",
      "106\n",
      "tf.Tensor(0.64198935, shape=(), dtype=float32)\n",
      "107\n",
      "tf.Tensor(0.44853595, shape=(), dtype=float32)\n",
      "108\n",
      "tf.Tensor(0.49044913, shape=(), dtype=float32)\n",
      "109\n",
      "tf.Tensor(0.7284981, shape=(), dtype=float32)\n",
      "110\n",
      "tf.Tensor(0.729272, shape=(), dtype=float32)\n",
      "111\n",
      "tf.Tensor(0.72723997, shape=(), dtype=float32)\n",
      "112\n",
      "tf.Tensor(0.48288193, shape=(), dtype=float32)\n",
      "113\n",
      "tf.Tensor(0.6849673, shape=(), dtype=float32)\n",
      "114\n",
      "tf.Tensor(0.4621362, shape=(), dtype=float32)\n",
      "115\n",
      "tf.Tensor(0.88309085, shape=(), dtype=float32)\n",
      "116\n",
      "tf.Tensor(0.6838105, shape=(), dtype=float32)\n",
      "117\n",
      "tf.Tensor(0.5810913, shape=(), dtype=float32)\n",
      "118\n",
      "tf.Tensor(1.370475, shape=(), dtype=float32)\n",
      "119\n",
      "tf.Tensor(0.4462326, shape=(), dtype=float32)\n",
      "120\n",
      "tf.Tensor(0.41685346, shape=(), dtype=float32)\n",
      "121\n",
      "tf.Tensor(0.4161672, shape=(), dtype=float32)\n",
      "122\n",
      "tf.Tensor(0.4018706, shape=(), dtype=float32)\n",
      "123\n",
      "tf.Tensor(0.5705369, shape=(), dtype=float32)\n",
      "124\n",
      "tf.Tensor(1.6164751, shape=(), dtype=float32)\n",
      "125\n",
      "tf.Tensor(1.586168, shape=(), dtype=float32)\n",
      "126\n",
      "tf.Tensor(0.4777082, shape=(), dtype=float32)\n",
      "127\n",
      "tf.Tensor(1.0879005, shape=(), dtype=float32)\n",
      "128\n",
      "tf.Tensor(0.8801716, shape=(), dtype=float32)\n",
      "129\n",
      "tf.Tensor(0.49783537, shape=(), dtype=float32)\n",
      "130\n",
      "tf.Tensor(0.8756342, shape=(), dtype=float32)\n",
      "131\n",
      "tf.Tensor(0.7529613, shape=(), dtype=float32)\n",
      "132\n",
      "tf.Tensor(0.51770264, shape=(), dtype=float32)\n",
      "133\n",
      "tf.Tensor(1.3589022, shape=(), dtype=float32)\n",
      "134\n",
      "tf.Tensor(0.47264338, shape=(), dtype=float32)\n",
      "135\n",
      "tf.Tensor(0.517893, shape=(), dtype=float32)\n",
      "136\n",
      "tf.Tensor(0.65118885, shape=(), dtype=float32)\n",
      "137\n",
      "tf.Tensor(0.49040738, shape=(), dtype=float32)\n",
      "138\n",
      "tf.Tensor(0.7434622, shape=(), dtype=float32)\n",
      "139\n",
      "tf.Tensor(0.4887899, shape=(), dtype=float32)\n",
      "140\n",
      "tf.Tensor(0.6999245, shape=(), dtype=float32)\n",
      "141\n",
      "tf.Tensor(0.5180544, shape=(), dtype=float32)\n",
      "142\n",
      "tf.Tensor(1.3716178, shape=(), dtype=float32)\n",
      "143\n",
      "tf.Tensor(0.73988163, shape=(), dtype=float32)\n",
      "144\n",
      "tf.Tensor(0.4252109, shape=(), dtype=float32)\n",
      "145\n",
      "tf.Tensor(0.90703106, shape=(), dtype=float32)\n",
      "146\n",
      "tf.Tensor(0.4910846, shape=(), dtype=float32)\n",
      "147\n",
      "tf.Tensor(0.6441221, shape=(), dtype=float32)\n",
      "148\n",
      "tf.Tensor(0.5791919, shape=(), dtype=float32)\n",
      "149\n",
      "tf.Tensor(0.74298143, shape=(), dtype=float32)\n",
      "150\n",
      "tf.Tensor(0.68604326, shape=(), dtype=float32)\n",
      "151\n",
      "tf.Tensor(0.74242365, shape=(), dtype=float32)\n",
      "152\n",
      "tf.Tensor(0.52344346, shape=(), dtype=float32)\n",
      "153\n",
      "tf.Tensor(1.0754429, shape=(), dtype=float32)\n",
      "154\n",
      "tf.Tensor(0.58161795, shape=(), dtype=float32)\n",
      "155\n",
      "tf.Tensor(0.40189654, shape=(), dtype=float32)\n",
      "156\n",
      "tf.Tensor(0.73431414, shape=(), dtype=float32)\n",
      "157\n",
      "tf.Tensor(0.6863308, shape=(), dtype=float32)\n",
      "158\n",
      "tf.Tensor(0.72556305, shape=(), dtype=float32)\n",
      "159\n",
      "tf.Tensor(0.49560425, shape=(), dtype=float32)\n",
      "160\n",
      "tf.Tensor(0.85645896, shape=(), dtype=float32)\n",
      "161\n",
      "tf.Tensor(0.7451173, shape=(), dtype=float32)\n",
      "162\n",
      "tf.Tensor(0.55592674, shape=(), dtype=float32)\n",
      "163\n",
      "tf.Tensor(0.8754928, shape=(), dtype=float32)\n",
      "164\n",
      "tf.Tensor(0.4469315, shape=(), dtype=float32)\n",
      "165\n",
      "tf.Tensor(0.88060427, shape=(), dtype=float32)\n",
      "166\n",
      "tf.Tensor(0.7258064, shape=(), dtype=float32)\n",
      "167\n",
      "tf.Tensor(0.7357391, shape=(), dtype=float32)\n",
      "168\n",
      "tf.Tensor(0.4011386, shape=(), dtype=float32)\n",
      "169\n",
      "tf.Tensor(0.6414814, shape=(), dtype=float32)\n",
      "170\n",
      "tf.Tensor(0.7308586, shape=(), dtype=float32)\n",
      "171\n",
      "tf.Tensor(0.41611183, shape=(), dtype=float32)\n",
      "172\n",
      "tf.Tensor(0.70590496, shape=(), dtype=float32)\n",
      "173\n",
      "tf.Tensor(0.5313196, shape=(), dtype=float32)\n",
      "174\n",
      "tf.Tensor(0.50957644, shape=(), dtype=float32)\n",
      "175\n",
      "tf.Tensor(0.58095956, shape=(), dtype=float32)\n",
      "176\n",
      "tf.Tensor(0.7197107, shape=(), dtype=float32)\n",
      "177\n",
      "tf.Tensor(0.44839314, shape=(), dtype=float32)\n",
      "178\n",
      "tf.Tensor(0.86217344, shape=(), dtype=float32)\n",
      "179\n",
      "tf.Tensor(0.40253505, shape=(), dtype=float32)\n",
      "180\n",
      "tf.Tensor(0.68802387, shape=(), dtype=float32)\n",
      "181\n",
      "tf.Tensor(0.5855781, shape=(), dtype=float32)\n",
      "182\n",
      "tf.Tensor(1.1152959, shape=(), dtype=float32)\n",
      "183\n",
      "tf.Tensor(0.7562163, shape=(), dtype=float32)\n",
      "184\n",
      "tf.Tensor(0.5146016, shape=(), dtype=float32)\n",
      "185\n",
      "tf.Tensor(0.4882639, shape=(), dtype=float32)\n",
      "186\n",
      "tf.Tensor(0.4140091, shape=(), dtype=float32)\n",
      "187\n",
      "tf.Tensor(0.87611276, shape=(), dtype=float32)\n",
      "188\n",
      "tf.Tensor(0.7207432, shape=(), dtype=float32)\n",
      "189\n",
      "tf.Tensor(1.098665, shape=(), dtype=float32)\n",
      "190\n",
      "tf.Tensor(0.730183, shape=(), dtype=float32)\n",
      "191\n",
      "tf.Tensor(0.68851805, shape=(), dtype=float32)\n",
      "192\n",
      "tf.Tensor(0.4765904, shape=(), dtype=float32)\n",
      "193\n",
      "tf.Tensor(0.5237391, shape=(), dtype=float32)\n",
      "194\n",
      "tf.Tensor(0.6481489, shape=(), dtype=float32)\n",
      "195\n",
      "tf.Tensor(0.5454123, shape=(), dtype=float32)\n",
      "196\n",
      "tf.Tensor(0.51152265, shape=(), dtype=float32)\n",
      "197\n",
      "tf.Tensor(0.45213068, shape=(), dtype=float32)\n",
      "198\n",
      "tf.Tensor(0.89130604, shape=(), dtype=float32)\n",
      "199\n",
      "tf.Tensor(1.2011915, shape=(), dtype=float32)\n"
     ]
    }
   ],
   "source": [
    "autoencoder = Autoencoder(intermediate_dim=3, original_dim=50)\n",
    "opt = tf.optimizers.Adam(learning_rate=learning_rate)\n",
    "\n",
    "# (training_features, _), (test_features, _) = tf.keras.datasets.mnist.load_data()\n",
    "# training_features = training_features / np.max(training_features)\n",
    "# training_features = training_features.reshape(training_features.shape[0],\n",
    "#                                               training_features.shape[1] * training_features.shape[2])\n",
    "# training_features = training_features.astype('float32')\n",
    "# training_features = train_set.to_numpy().astype('float32')\n",
    "training_features = cytokines_np[0].astype('float32')\n",
    "cyto_age = cytokine_data.AGE.astype('float32')\n",
    "\n",
    "cyto_age = (cyto_age - np.mean(cyto_age))/np.std(cyto_age)\n",
    "# # cyto_age * np.std(cytokine_data.AGE) + np.mean(cytokine_data.AGE)\n",
    "\n",
    "training_dataset = tf.data.Dataset.from_tensor_slices((training_features,cyto_age))\n",
    "training_dataset = training_dataset.batch(batch_size)\n",
    "training_dataset = training_dataset.shuffle(training_features.shape[0])\n",
    "training_dataset = training_dataset.prefetch(batch_size * 4)\n",
    "\n",
    "writer = tf.summary.create_file_writer('tmp')\n",
    "\n",
    "with writer.as_default():\n",
    "  with tf.summary.record_if(True):\n",
    "    for epoch in range(epochs):\n",
    "      print(epoch)\n",
    "      for step, batch_features in enumerate(training_dataset):\n",
    "#         import pdb; pdb.set_trace()\n",
    "        train(loss, autoencoder, opt, batch_features)\n",
    "        loss_values = loss(autoencoder, batch_features)\n",
    "      print(loss_values)\n",
    "#         original = tf.reshape(batch_features, (batch_features.shape[0], 28, 28, 1))\n",
    "#         reconstructed = tf.reshape(autoencoder(tf.constant(batch_features)), (batch_features.shape[0], 28, 28, 1))\n",
    "#         tf.summary.scalar('loss', loss_values, step=step)\n",
    "#         tf.summary.image('original', original, max_outputs=10, step=step)\n",
    "#         tf.summary.image('reconstructed', reconstructed, max_outputs=10, step=step)"
   ]
  },
  {
   "cell_type": "code",
   "execution_count": 14,
   "id": "national-dayton",
   "metadata": {},
   "outputs": [
    {
     "data": {
      "text/plain": [
       "345.6553469633893"
      ]
     },
     "execution_count": 14,
     "metadata": {},
     "output_type": "execute_result"
    }
   ],
   "source": [
    "tf.math.reduce_mean(abs((autoencoder(training_features)[1] * np.std(cytokine_data.AGE) + np.mean(cytokine_data.AGE)) - cytokine_data.AGE))\n",
    "mean_squared_error((autoencoder(training_features)[1] * np.std(cytokine_data.AGE) + np.mean(cytokine_data.AGE)) , cytokine_data.AGE)"
   ]
  },
  {
   "cell_type": "code",
   "execution_count": 15,
   "id": "emerging-runner",
   "metadata": {},
   "outputs": [
    {
     "name": "stdout",
     "output_type": "stream",
     "text": [
      "tf.Tensor(\n",
      "[[ 0.06234313 -0.20996466 -0.7904165  ...  0.86934876 -0.1257301\n",
      "   0.7994524 ]\n",
      " [ 0.0477461  -0.22456169 -0.80501354 ...  0.85475177 -0.14032713\n",
      "   0.7848554 ]\n",
      " [ 0.12257809 -0.1497297  -0.7301816  ...  0.9295838  -0.06549513\n",
      "   0.85968745]\n",
      " ...\n",
      " [-0.44201565 -0.7143234  -1.2947752  ...  0.36499003 -0.63008887\n",
      "   0.2950937 ]\n",
      " [-0.29340842 -0.5657162  -1.146168   ...  0.51359725 -0.48148164\n",
      "   0.4437009 ]\n",
      " [-0.40167135 -0.67397916 -1.254431   ...  0.40533432 -0.58974457\n",
      "   0.33543798]], shape=(1001, 1001), dtype=float32)\n",
      "tf.Tensor(0.89550835, shape=(), dtype=float32)\n",
      "tf.Tensor(1.1187584, shape=(), dtype=float32)\n",
      "0.7709554\n"
     ]
    }
   ],
   "source": [
    "print(autoencoder(training_features)[1] - cyto_age)\n",
    "print(tf.math.reduce_mean(abs(autoencoder(training_features)[1] - cyto_age)))\n",
    "print(tf.math.reduce_mean((autoencoder(training_features)[1] - cyto_age)**2))\n",
    "print(mean_squared_error(autoencoder(training_features)[1] , cyto_age))"
   ]
  },
  {
   "cell_type": "markdown",
   "id": "played-sodium",
   "metadata": {},
   "source": [
    "## Jacobian"
   ]
  },
  {
   "cell_type": "code",
   "execution_count": 16,
   "id": "monthly-politics",
   "metadata": {},
   "outputs": [
    {
     "data": {
      "image/png": "[encoded data removed]",
      "text/plain": [
       "<Figure size 1440x720 with 1 Axes>"
      ]
     },
     "metadata": {
      "needs_background": "light"
     },
     "output_type": "display_data"
    }
   ],
   "source": [
    "# training_features.shape\n",
    "def get_Jacobian(training_set,eps=1e-3):\n",
    "    n,p = training_set.shape\n",
    "    J = np.zeros([n,p])\n",
    "    for i in range(p):\n",
    "        #print(i)\n",
    "        x0 = training_set.copy()\n",
    "        x1 = training_set.copy()\n",
    "#         import pdb; pdb.set_trace()\n",
    "        x0[:,i] = x0[:,i] - eps\n",
    "        x1[:,i] = x1[:,i] + eps\n",
    "        J[:,i:i+1] = ((autoencoder(x1)[1] \\\n",
    "                      - autoencoder(x0)[1])/(2.0*eps))[:,0:0+1]\n",
    "    return J\n",
    "\n",
    "J = get_Jacobian(training_features)\n",
    "training_features\n",
    "J.shape\n",
    "\n",
    "J.shape\n",
    "#plotting jacobian\n",
    "xlb = cytokines.columns\n",
    "# lst = np.argsort(-np.sum(np.abs(J),axis=0))\n",
    "# lst = np.argsort(-np.mean(np.abs(J),axis=0))\n",
    "lst = np.argsort(-np.median(np.abs(J),axis=0))\n",
    "# lst = np.argsort(-np.sum((J),axis=0))\n",
    "plt.figure(figsize=[20,10])\n",
    "plt.boxplot(J[:,lst], showfliers=False)\n",
    "plt.grid()\n",
    "plt.xticks(np.arange(len(xlb))+1,xlb[lst],rotation='vertical')\n",
    "plt.ylabel('Jacobian')\n",
    "plt.show()"
   ]
  },
  {
   "cell_type": "code",
   "execution_count": 17,
   "id": "hindu-lyric",
   "metadata": {},
   "outputs": [
    {
     "name": "stdout",
     "output_type": "stream",
     "text": [
      "Model: \"autoencoder\"\n",
      "_________________________________________________________________\n",
      "Layer (type)                 Output Shape              Param #   \n",
      "=================================================================\n",
      "encoder (Encoder)            multiple                  285       \n",
      "_________________________________________________________________\n",
      "decoder (Decoder)            multiple                  330       \n",
      "_________________________________________________________________\n",
      "age_layer (Age_layer)        multiple                  6         \n",
      "=================================================================\n",
      "Total params: 621\n",
      "Trainable params: 621\n",
      "Non-trainable params: 0\n",
      "_________________________________________________________________\n"
     ]
    }
   ],
   "source": [
    "autoencoder.summary()"
   ]
  },
  {
   "cell_type": "markdown",
   "id": "bottom-absorption",
   "metadata": {},
   "source": [
    "# Integrated Gradients"
   ]
  },
  {
   "cell_type": "code",
   "execution_count": 18,
   "id": "posted-roller",
   "metadata": {
    "scrolled": true
   },
   "outputs": [
    {
     "data": {
      "text/plain": [
       "TensorShape([51, 1001, 50])"
      ]
     },
     "execution_count": 18,
     "metadata": {},
     "output_type": "execute_result"
    }
   ],
   "source": [
    "model = autoencoder \n",
    "\n",
    "baseline = tf.zeros(shape=(1001,50))\n",
    "\n",
    "m_steps=50\n",
    "alphas = tf.linspace(start=0.0, stop=1.0, num=m_steps+1) # Generate m_steps intervals for integral_approximation() below.\n",
    "\n",
    "training_features.shape\n",
    "\n",
    "def interpolate_images(baseline,image,alphas):\n",
    "  alphas_x = alphas[:, tf.newaxis, tf.newaxis]\n",
    "  baseline_x = tf.expand_dims(baseline, axis=0)\n",
    "  input_x = tf.expand_dims(image, axis=0)\n",
    "#   alphas_x = alphas\n",
    "#   baseline_x = baseline\n",
    "#   input_x = image\n",
    "  delta = input_x - baseline_x\n",
    "  images = baseline_x +  alphas_x * delta\n",
    "  return images\n",
    "\n",
    "interpolated_images = interpolate_images(\n",
    "    baseline=baseline,\n",
    "    image=training_features,\n",
    "    alphas=alphas)\n",
    "\n",
    "interpolated_images.shape\n",
    "\n",
    "def compute_gradients(images):\n",
    "  with tf.GradientTape() as tape:\n",
    "    tape.watch(images)\n",
    "#     logits = model(images)\n",
    "#     probs = tf.nn.softmax(logits, axis=-1)[:, target_class_idx]\n",
    "    #import pdb; pdb.set_trace()\n",
    "    agels = [i[1] for i in map(model, images)]\n",
    "#     res = [tf.reduce_mean(tf.square(cyto_age - model_out[1])) for age_mtx in agels]\n",
    "    res = [tf.reduce_mean(tf.square(tf.subtract(cyto_age, tf.reshape(age_mtx, [-1])))) for age_mtx in agels]\n",
    "    res = tf.convert_to_tensor(res)\n",
    "  return tape.gradient(res, images)\n",
    "\n",
    "\n",
    "path_gradients = compute_gradients(images=interpolated_images)\n",
    "path_gradients.shape\n",
    "    "
   ]
  },
  {
   "cell_type": "code",
   "execution_count": 19,
   "id": "proud-winter",
   "metadata": {},
   "outputs": [
    {
     "name": "stdout",
     "output_type": "stream",
     "text": [
      "tf.Tensor(0, shape=(), dtype=int32)\n",
      "frommmm tf.Tensor(0, shape=(), dtype=int32)\n",
      "toooo tf.Tensor(32, shape=(), dtype=int32)\n",
      "(32,)\n",
      "tf.Tensor(\n",
      "[0.         0.02       0.04       0.06       0.08       0.09999999\n",
      " 0.12       0.14       0.16       0.17999999 0.19999999 0.22\n",
      " 0.24       0.26       0.28       0.29999998 0.32       0.34\n",
      " 0.35999998 0.38       0.39999998 0.42       0.44       0.45999998\n",
      " 0.48       0.5        0.52       0.53999996 0.56       0.58\n",
      " 0.59999996 0.62      ], shape=(32,), dtype=float32)\n",
      "tf.Tensor(32, shape=(), dtype=int32)\n",
      "frommmm tf.Tensor(32, shape=(), dtype=int32)\n",
      "toooo tf.Tensor(51, shape=(), dtype=int32)\n",
      "(19,)\n",
      "tf.Tensor(\n",
      "[0.64       0.65999997 0.68       0.7        0.71999997 0.74\n",
      " 0.76       0.78       0.79999995 0.82       0.84       0.85999995\n",
      " 0.88       0.9        0.91999996 0.94       0.96       0.97999996\n",
      " 1.        ], shape=(19,), dtype=float32)\n"
     ]
    }
   ],
   "source": [
    "batch_size\n",
    "alphas[3:5]\n",
    "\n",
    "for alpha in tf.range(0, len(alphas), batch_size):\n",
    "    print(alpha)\n",
    "    from_ = alpha\n",
    "    print('frommmm', from_)\n",
    "    to = tf.minimum(from_ + batch_size, len(alphas))\n",
    "    print('toooo', to)\n",
    "    alpha_batch = alphas[from_:to]\n",
    "    print(alpha_batch.shape)\n",
    "    print(alpha_batch)"
   ]
  },
  {
   "cell_type": "code",
   "execution_count": 20,
   "id": "medium-basket",
   "metadata": {},
   "outputs": [],
   "source": [
    "gradient_batches = tf.TensorArray(tf.float32, size=m_steps+1)\n",
    "gradient_batches\n",
    "\n",
    "for alpha in tf.range(0, len(alphas), batch_size):\n",
    "#     print(alpha)\n",
    "    from_ = alpha\n",
    "#     print('frommmm', from_)\n",
    "    to = tf.minimum(from_ + batch_size, len(alphas))\n",
    "#     print('toooo', to)\n",
    "    alpha_batch = alphas[from_:to]\n",
    "#     print(alpha_batch.shape)\n",
    "#     print(alpha_batch)\n",
    "    interpolated_path_input_batch = interpolate_images(baseline=baseline,\n",
    "                                                           image=training_features,\n",
    "                                                           alphas=alpha_batch)\n",
    "    \n",
    "    gradient_batch = compute_gradients(images=interpolated_path_input_batch)\n",
    "    \n",
    "        # Write batch indices and gradients to extend TensorArray.\n",
    "    gradient_batches = gradient_batches.scatter(tf.range(from_, to), gradient_batch)    \n",
    "#     gradient_batches.read(0)\n",
    "    "
   ]
  },
  {
   "cell_type": "code",
   "execution_count": 21,
   "id": "composed-flash",
   "metadata": {},
   "outputs": [],
   "source": [
    "def integral_approximation(gradients):\n",
    "  # riemann_trapezoidal\n",
    "  grads = (gradients[:-1] + gradients[1:]) / tf.constant(2.0)\n",
    "  integrated_gradients = tf.math.reduce_mean(grads, axis=0)\n",
    "  return integrated_gradients"
   ]
  },
  {
   "cell_type": "code",
   "execution_count": 22,
   "id": "noble-pledge",
   "metadata": {},
   "outputs": [
    {
     "data": {
      "text/plain": [
       "<tf.Tensor: shape=(1001, 50), dtype=float32, numpy=\n",
       "array([[ 1.2429418e-05, -1.1256054e-06, -4.1919916e-06, ...,\n",
       "        -1.0908787e-05,  4.8306133e-06, -3.9432192e-07],\n",
       "       [-1.1723601e-05,  3.6461168e-07, -1.1654918e-05, ...,\n",
       "         1.8100907e-05, -2.6640967e-06,  6.6788675e-07],\n",
       "       [-6.0756174e-05, -2.0511688e-05,  7.6611279e-05, ...,\n",
       "         5.6547800e-05, -8.7783237e-06, -6.2517106e-06],\n",
       "       ...,\n",
       "       [-8.0955375e-05,  4.5828889e-05,  3.0798966e-04, ...,\n",
       "         1.7351810e-04, -2.1467441e-04,  1.4653165e-06],\n",
       "       [-9.3499999e-05,  7.1586060e-06,  1.8659874e-04, ...,\n",
       "        -4.0221821e-05, -2.2190590e-05, -2.0434279e-06],\n",
       "       [-9.5250238e-05,  4.4986129e-05, -1.5065974e-03, ...,\n",
       "         1.3925604e-04, -2.5735458e-04,  1.1534129e-04]], dtype=float32)>"
      ]
     },
     "execution_count": 22,
     "metadata": {},
     "output_type": "execute_result"
    }
   ],
   "source": [
    "total_gradients = gradient_batches.stack()\n",
    "total_gradients\n",
    "\n",
    "avg_gradients = integral_approximation(gradients=total_gradients)\n",
    "\n",
    "# 5. Scale integrated gradients with respect to input.\n",
    "integrated_gradients = (training_features - baseline) * avg_gradients\n",
    "integrated_gradients\n"
   ]
  },
  {
   "cell_type": "code",
   "execution_count": 23,
   "id": "certain-missile",
   "metadata": {},
   "outputs": [],
   "source": [
    "\n",
    "\n",
    "#@tf.function\n",
    "def integrated_gradients(baseline,\n",
    "                         image,\n",
    "                         m_steps=50,\n",
    "#                          batch_size=32):\n",
    "                         batch_size=10):\n",
    "    \n",
    "#   import pdb; pdb.set_trace()\n",
    "  # 1. Generate alphas.\n",
    "  alphas = tf.linspace(start=0.0, stop=1.0, num=m_steps+1)\n",
    "\n",
    "  # Initialize TensorArray outside loop to collect gradients.    \n",
    "  gradient_batches = tf.TensorArray(tf.float32, size=m_steps+1)\n",
    "    \n",
    "\n",
    "  # Iterate alphas range and batch computation for speed, memory efficiency, and scaling to larger m_steps.\n",
    "  for alpha in tf.range(0, len(alphas), batch_size):\n",
    "    from_ = alpha\n",
    "    to = tf.minimum(from_ + batch_size, len(alphas))\n",
    "    alpha_batch = alphas[from_:to]\n",
    "\n",
    "    # 2. Generate interpolated inputs between baseline and input.\n",
    "    interpolated_path_input_batch = interpolate_images(baseline=baseline,\n",
    "                                                       image=image,\n",
    "                                                       alphas=alpha_batch)\n",
    "\n",
    "    # 3. Compute gradients between model outputs and interpolated inputs.\n",
    "    gradient_batch = compute_gradients(images=interpolated_path_input_batch)\n",
    "\n",
    "    # Write batch indices and gradients to extend TensorArray.\n",
    "    gradient_batches = gradient_batches.scatter(tf.range(from_, to), gradient_batch)    \n",
    "\n",
    "  # Stack path gradients together row-wise into single tensor.\n",
    "  total_gradients = gradient_batches.stack()\n",
    "\n",
    "  # 4. Integral approximation through averaging gradients.\n",
    "  avg_gradients = integral_approximation(gradients=total_gradients)\n",
    "\n",
    "  # 5. Scale integrated gradients with respect to input.\n",
    "  integrated_gradients = (image - baseline) * avg_gradients\n",
    "\n",
    "  return integrated_gradients"
   ]
  },
  {
   "cell_type": "code",
   "execution_count": 24,
   "id": "potential-commission",
   "metadata": {
    "scrolled": true
   },
   "outputs": [
    {
     "data": {
      "text/plain": [
       "TensorShape([1001, 50])"
      ]
     },
     "execution_count": 24,
     "metadata": {},
     "output_type": "execute_result"
    }
   ],
   "source": [
    "ig_attributions = integrated_gradients(baseline=baseline,\n",
    "                                       image=training_features,\n",
    "                                       m_steps=240)\n",
    "\n",
    "\n",
    "\n",
    "ig_attributions.shape"
   ]
  },
  {
   "cell_type": "code",
   "execution_count": 25,
   "id": "adequate-gardening",
   "metadata": {},
   "outputs": [
    {
     "data": {
      "text/plain": [
       "TensorShape([1001, 50])"
      ]
     },
     "execution_count": 25,
     "metadata": {},
     "output_type": "execute_result"
    }
   ],
   "source": [
    "ig_attributions.shape"
   ]
  },
  {
   "cell_type": "code",
   "execution_count": 26,
   "id": "measured-parallel",
   "metadata": {},
   "outputs": [
    {
     "data": {
      "image/png": "[encoded data removed]",
      "text/plain": [
       "<Figure size 1440x720 with 1 Axes>"
      ]
     },
     "metadata": {
      "needs_background": "light"
     },
     "output_type": "display_data"
    }
   ],
   "source": [
    "### plotting IG box plot\n",
    "J.shape\n",
    "ig_attributions.numpy().shape\n",
    "xlb = cytokines.columns\n",
    "lst = np.argsort(-np.median(np.abs(ig_attributions.numpy()),axis=0))\n",
    "plt.figure(figsize=[20,10])\n",
    "plt.boxplot(ig_attributions.numpy()[:,lst], showfliers=False)\n",
    "plt.grid()\n",
    "plt.xticks(np.arange(len(xlb))+1,xlb[lst],rotation='vertical')\n",
    "plt.ylabel('IG')\n",
    "plt.show()\n"
   ]
  },
  {
   "cell_type": "code",
   "execution_count": 30,
   "id": "enclosed-hurricane",
   "metadata": {},
   "outputs": [
    {
     "data": {
      "image/png": "[encoded data removed]",
      "text/plain": [
       "<Figure size 1440x720 with 1 Axes>"
      ]
     },
     "metadata": {
      "needs_background": "light"
     },
     "output_type": "display_data"
    }
   ],
   "source": [
    "## IG mean\n",
    "ig_attributions.numpy().sum(axis = 0).shape\n",
    "ig_attributions.numpy().sum(axis = 0)\n",
    "all_features_imp = pd.DataFrame(list(zip(cytokines.columns,\n",
    "#                 (ig_attributions).numpy().sum(axis = 0))),\n",
    "#                 abs(ig_attributions).numpy().sum(axis = 0))),\n",
    "#                 abs(ig_attributions).numpy().mean(axis = 0))),\n",
    "                (ig_attributions).numpy().mean(axis = 0))),\n",
    "#                 (ig_attributions).numpy().median(axis = 0))),\n",
    "#                 np.median((ig_attributions).numpy(), axis = 0))),\n",
    "#              perm.feature_importances_std_*2)),\n",
    "#              columns = ['Names', 'Mean', 'Std'])\n",
    "             columns = ['Names', 'Sum'])\n",
    "all_features_imp\n",
    "all_features_imp = all_features_imp.sort_values(by = ['Sum'], ascending=False)\n",
    "plt.figure(figsize=[20,10])\n",
    "plt.errorbar(all_features_imp.Names,\n",
    "             all_features_imp.Sum,\n",
    "             fmt='ok', lw=3)\n",
    "plt.grid()\n",
    "plt.xticks(np.arange(len(all_features_imp.Names)),\n",
    "           all_features_imp.Names,rotation='vertical')\n",
    "plt.ylabel('IG Feature Importance')\n",
    "plt.show()"
   ]
  },
  {
   "cell_type": "markdown",
   "id": "subject-ambassador",
   "metadata": {},
   "source": [
    "## different version"
   ]
  },
  {
   "cell_type": "markdown",
   "id": "precise-angola",
   "metadata": {},
   "source": [
    "#input = layers.Input(shape=(28, 28, 1))\n",
    "input = layers.Input(shape=(50))\n",
    "\n",
    "# Encoder\n",
    "x = layers.Dense(3, activation=\"relu\")(input)\n",
    "#x = layers.MaxPooling2D((2, 2), padding=\"same\")(x)\n",
    "x = layers.Dense(3, activation=\"relu\")(x)\n",
    "# x = layers.MaxPooling2D((2, 2), padding=\"same\")(x)\n",
    "\n",
    "# Decoder\n",
    "# x = layers.Conv2DTranspose(32, (3, 3), strides=2, activation=\"relu\", padding=\"same\")(x)\n",
    "# x = layers.Conv2DTranspose(32, (3, 3), strides=2, activation=\"relu\", padding=\"same\")(x)\n",
    "x = layers.Dense(3, activation=\"relu\")(x)\n",
    "x = layers.Dense(3, activation=\"relu\")(x)\n",
    "x = layers.Dense(5, activation=\"sigmoid\")(x)\n",
    "\n",
    "# Autoencoder\n",
    "autoencoder = Model(input, x)\n",
    "autoencoder.compile(optimizer=\"adam\", loss=loss)\n",
    "autoencoder.summary()"
   ]
  },
  {
   "cell_type": "markdown",
   "id": "public-garden",
   "metadata": {},
   "source": [
    "autoencoder.fit(\n",
    "    x=train_set.values,\n",
    "    y=train_set.values,\n",
    "    epochs=50,\n",
    "    batch_size=128,\n",
    "    shuffle=True,\n",
    "    validation_data=(train_set.values, train_set.values),\n",
    ")\n"
   ]
  },
  {
   "cell_type": "markdown",
   "id": "sized-compilation",
   "metadata": {},
   "source": [
    "train_set.shape"
   ]
  },
  {
   "cell_type": "markdown",
   "id": "small-lloyd",
   "metadata": {},
   "source": [
    "# another version 2"
   ]
  },
  {
   "cell_type": "markdown",
   "id": "ranking-omega",
   "metadata": {},
   "source": [
    "latent_dim = 3 \n",
    "\n",
    "class Autoencoder(Model):\n",
    "  def __init__(self, latent_dim):\n",
    "    super(Autoencoder, self).__init__()\n",
    "    self.latent_dim = latent_dim   \n",
    "    self.encoder = tf.keras.Sequential([\n",
    "#       layers.Flatten(),\n",
    "      layers.Dense(3, activation=tf.nn.relu, input_shape=(50,)),\n",
    "      layers.Dense(3, activation=tf.nn.relu),\n",
    "      layers.Dense(3, activation=tf.nn.relu),\n",
    "    ])\n",
    "    self.decoder = tf.keras.Sequential([\n",
    "#       layers.Dense(3, activation='sigmoid'),\n",
    "#       layers.Reshape((1, 50))\n",
    "      layers.Dense(3, activation=tf.nn.relu),\n",
    "      layers.Dense(50, activation=tf.nn.relu),\n",
    "      layers.Dense(50, activation='sigmoid')\n",
    "    ])\n",
    "\n",
    "  def call(self, x):\n",
    "    encoded = self.encoder(x)\n",
    "    decoded = self.decoder(encoded)\n",
    "    return decoded\n",
    "\n",
    "autoencoder = Autoencoder(latent_dim)"
   ]
  },
  {
   "cell_type": "markdown",
   "id": "geological-exchange",
   "metadata": {},
   "source": [
    "#autoencoder.compile(optimizer='adam', loss=loss)\n",
    "def loss(model, original):\n",
    "  reconstruction_error = tf.reduce_mean(tf.square(tf.subtract(model(original), original)))\n",
    "  return reconstruction_error\n",
    "autoencoder.compile(optimizer='adam', loss=losses.MeanSquaredError())\n",
    "\n"
   ]
  },
  {
   "cell_type": "markdown",
   "id": "random-group",
   "metadata": {},
   "source": [
    "autoencoder.fit(cytokines_np[0], cytokines_np[0],\n",
    "                epochs=2000,\n",
    "                shuffle=True,\n",
    "                batch_size = 30,\n",
    "                validation_data=(cytokines_np[0], cytokines_np[0]))"
   ]
  },
  {
   "cell_type": "markdown",
   "id": "choice-transportation",
   "metadata": {},
   "source": [
    "autoencoder.summary()"
   ]
  },
  {
   "cell_type": "markdown",
   "id": "portable-satellite",
   "metadata": {},
   "source": [
    "autoencoder(cytokines_np[0])"
   ]
  },
  {
   "cell_type": "code",
   "execution_count": null,
   "id": "historic-great",
   "metadata": {},
   "outputs": [],
   "source": []
  }
 ],
 "metadata": {
  "kernelspec": {
   "display_name": "py36",
   "language": "python",
   "name": "py36"
  },
  "language_info": {
   "codemirror_mode": {
    "name": "ipython",
    "version": 3
   },
   "file_extension": ".py",
   "mimetype": "text/x-python",
   "name": "python",
   "nbconvert_exporter": "python",
   "pygments_lexer": "ipython3",
   "version": "3.6.9"
  }
 },
 "nbformat": 4,
 "nbformat_minor": 5
}
